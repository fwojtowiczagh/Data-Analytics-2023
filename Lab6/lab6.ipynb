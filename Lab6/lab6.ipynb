{
 "cells": [
  {
   "cell_type": "code",
   "execution_count": 1,
   "metadata": {},
   "outputs": [
    {
     "name": "stderr",
     "output_type": "stream",
     "text": [
      "/usr/local/lib/python3.9/site-packages/tqdm/auto.py:22: TqdmWarning: IProgress not found. Please update jupyter and ipywidgets. See https://ipywidgets.readthedocs.io/en/stable/user_install.html\n",
      "  from .autonotebook import tqdm as notebook_tqdm\n"
     ]
    }
   ],
   "source": [
    "from cmdstanpy import CmdStanModel\n",
    "\n",
    "\n",
    "import arviz as az\n",
    "import numpy as np\n",
    "import scipy.stats as stats\n",
    "\n",
    "import matplotlib.pyplot as plt\n",
    "import pandas as pd"
   ]
  },
  {
   "attachments": {},
   "cell_type": "markdown",
   "metadata": {},
   "source": [
    "**Exercise 1**"
   ]
  },
  {
   "cell_type": "code",
   "execution_count": 2,
   "metadata": {},
   "outputs": [
    {
     "data": {
      "text/plain": [
       "1400"
      ]
     },
     "execution_count": 2,
     "metadata": {},
     "output_type": "execute_result"
    }
   ],
   "source": [
    "F = 'Filip'\n",
    "L = 'Wójtowicz'\n",
    "N = (len(F) + len(L))*100\n",
    "N"
   ]
  },
  {
   "cell_type": "code",
   "execution_count": 3,
   "metadata": {},
   "outputs": [
    {
     "name": "stderr",
     "output_type": "stream",
     "text": [
      "INFO:cmdstanpy:found newer exe file, not recompiling\n"
     ]
    }
   ],
   "source": [
    "model_1=CmdStanModel(stan_file='code_1.stan')"
   ]
  },
  {
   "cell_type": "code",
   "execution_count": 4,
   "metadata": {},
   "outputs": [
    {
     "name": "stderr",
     "output_type": "stream",
     "text": [
      "INFO:cmdstanpy:CmdStan start processing\n",
      "chain 1 |\u001b[34m██████████\u001b[0m| 00:00 Sampling completed"
     ]
    },
    {
     "name": "stdout",
     "output_type": "stream",
     "text": [
      "                                                                                "
     ]
    },
    {
     "name": "stderr",
     "output_type": "stream",
     "text": [
      "\n",
      "INFO:cmdstanpy:CmdStan done processing.\n"
     ]
    },
    {
     "name": "stdout",
     "output_type": "stream",
     "text": [
      "\n"
     ]
    }
   ],
   "source": [
    "R = 1\n",
    "sim_1=model_1.sample(data={'N': N}, \n",
    "                     iter_sampling=R, \n",
    "                     iter_warmup=0, \n",
    "                     chains=1, \n",
    "                     refresh=R,\n",
    "                     fixed_param=True,\n",
    "                     seed=29042020)"
   ]
  },
  {
   "cell_type": "code",
   "execution_count": 5,
   "metadata": {},
   "outputs": [
    {
     "data": {
      "text/html": [
       "<div>\n",
       "<style scoped>\n",
       "    .dataframe tbody tr th:only-of-type {\n",
       "        vertical-align: middle;\n",
       "    }\n",
       "\n",
       "    .dataframe tbody tr th {\n",
       "        vertical-align: top;\n",
       "    }\n",
       "\n",
       "    .dataframe thead th {\n",
       "        text-align: right;\n",
       "    }\n",
       "</style>\n",
       "<table border=\"1\" class=\"dataframe\">\n",
       "  <thead>\n",
       "    <tr style=\"text-align: right;\">\n",
       "      <th></th>\n",
       "      <th>lp__</th>\n",
       "      <th>accept_stat__</th>\n",
       "      <th>theta</th>\n",
       "      <th>y[1]</th>\n",
       "      <th>y[2]</th>\n",
       "      <th>y[3]</th>\n",
       "      <th>y[4]</th>\n",
       "      <th>y[5]</th>\n",
       "      <th>y[6]</th>\n",
       "      <th>y[7]</th>\n",
       "      <th>...</th>\n",
       "      <th>y[1391]</th>\n",
       "      <th>y[1392]</th>\n",
       "      <th>y[1393]</th>\n",
       "      <th>y[1394]</th>\n",
       "      <th>y[1395]</th>\n",
       "      <th>y[1396]</th>\n",
       "      <th>y[1397]</th>\n",
       "      <th>y[1398]</th>\n",
       "      <th>y[1399]</th>\n",
       "      <th>y[1400]</th>\n",
       "    </tr>\n",
       "  </thead>\n",
       "  <tbody>\n",
       "    <tr>\n",
       "      <th>0</th>\n",
       "      <td>0.0</td>\n",
       "      <td>0.0</td>\n",
       "      <td>0.01</td>\n",
       "      <td>-0.424502</td>\n",
       "      <td>-0.063661</td>\n",
       "      <td>-0.833885</td>\n",
       "      <td>1.55158</td>\n",
       "      <td>-0.362245</td>\n",
       "      <td>0.743487</td>\n",
       "      <td>0.970844</td>\n",
       "      <td>...</td>\n",
       "      <td>-0.172749</td>\n",
       "      <td>1.53637</td>\n",
       "      <td>0.74268</td>\n",
       "      <td>-0.073685</td>\n",
       "      <td>2.03962</td>\n",
       "      <td>-0.166802</td>\n",
       "      <td>-0.200499</td>\n",
       "      <td>-0.304691</td>\n",
       "      <td>-0.304062</td>\n",
       "      <td>0.812941</td>\n",
       "    </tr>\n",
       "  </tbody>\n",
       "</table>\n",
       "<p>1 rows × 1403 columns</p>\n",
       "</div>"
      ],
      "text/plain": [
       "   lp__  accept_stat__  theta      y[1]      y[2]      y[3]     y[4]  \\\n",
       "0   0.0            0.0   0.01 -0.424502 -0.063661 -0.833885  1.55158   \n",
       "\n",
       "       y[5]      y[6]      y[7]  ...   y[1391]  y[1392]  y[1393]   y[1394]  \\\n",
       "0 -0.362245  0.743487  0.970844  ... -0.172749  1.53637  0.74268 -0.073685   \n",
       "\n",
       "   y[1395]   y[1396]   y[1397]   y[1398]   y[1399]   y[1400]  \n",
       "0  2.03962 -0.166802 -0.200499 -0.304691 -0.304062  0.812941  \n",
       "\n",
       "[1 rows x 1403 columns]"
      ]
     },
     "execution_count": 5,
     "metadata": {},
     "output_type": "execute_result"
    }
   ],
   "source": [
    "df_sim_1 = sim_1.draws_pd()\n",
    "df_sim_1.head()"
   ]
  },
  {
   "cell_type": "code",
   "execution_count": 6,
   "metadata": {},
   "outputs": [
    {
     "name": "stderr",
     "output_type": "stream",
     "text": [
      "INFO:cmdstanpy:found newer exe file, not recompiling\n"
     ]
    }
   ],
   "source": [
    "model_2=CmdStanModel(stan_file='code_2.stan')"
   ]
  },
  {
   "cell_type": "code",
   "execution_count": 7,
   "metadata": {},
   "outputs": [
    {
     "name": "stderr",
     "output_type": "stream",
     "text": [
      "INFO:cmdstanpy:CmdStan start processing\n",
      "chain 1 |\u001b[34m██████████\u001b[0m| 00:00 Sampling completed"
     ]
    },
    {
     "name": "stdout",
     "output_type": "stream",
     "text": [
      "                                                                                "
     ]
    },
    {
     "name": "stderr",
     "output_type": "stream",
     "text": [
      "\n",
      "INFO:cmdstanpy:CmdStan done processing.\n"
     ]
    },
    {
     "name": "stdout",
     "output_type": "stream",
     "text": [
      "\n"
     ]
    }
   ],
   "source": [
    "R = 1\n",
    "sim_2=model_2.sample(data={'N': N}, \n",
    "                     iter_sampling=R, \n",
    "                     iter_warmup=0, \n",
    "                     chains=1, \n",
    "                     refresh=R,\n",
    "                     fixed_param=True,\n",
    "                     seed=29042020)"
   ]
  },
  {
   "cell_type": "code",
   "execution_count": 8,
   "metadata": {},
   "outputs": [
    {
     "data": {
      "text/html": [
       "<div>\n",
       "<style scoped>\n",
       "    .dataframe tbody tr th:only-of-type {\n",
       "        vertical-align: middle;\n",
       "    }\n",
       "\n",
       "    .dataframe tbody tr th {\n",
       "        vertical-align: top;\n",
       "    }\n",
       "\n",
       "    .dataframe thead th {\n",
       "        text-align: right;\n",
       "    }\n",
       "</style>\n",
       "<table border=\"1\" class=\"dataframe\">\n",
       "  <thead>\n",
       "    <tr style=\"text-align: right;\">\n",
       "      <th></th>\n",
       "      <th>lp__</th>\n",
       "      <th>accept_stat__</th>\n",
       "      <th>X[1,1]</th>\n",
       "      <th>X[2,1]</th>\n",
       "      <th>X[3,1]</th>\n",
       "      <th>X[4,1]</th>\n",
       "      <th>X[5,1]</th>\n",
       "      <th>X[6,1]</th>\n",
       "      <th>X[7,1]</th>\n",
       "      <th>X[8,1]</th>\n",
       "      <th>...</th>\n",
       "      <th>y[1391]</th>\n",
       "      <th>y[1392]</th>\n",
       "      <th>y[1393]</th>\n",
       "      <th>y[1394]</th>\n",
       "      <th>y[1395]</th>\n",
       "      <th>y[1396]</th>\n",
       "      <th>y[1397]</th>\n",
       "      <th>y[1398]</th>\n",
       "      <th>y[1399]</th>\n",
       "      <th>y[1400]</th>\n",
       "    </tr>\n",
       "  </thead>\n",
       "  <tbody>\n",
       "    <tr>\n",
       "      <th>0</th>\n",
       "      <td>0.0</td>\n",
       "      <td>0.0</td>\n",
       "      <td>2.70817</td>\n",
       "      <td>0.777181</td>\n",
       "      <td>-1.27227</td>\n",
       "      <td>0.127591</td>\n",
       "      <td>-1.38942</td>\n",
       "      <td>0.246162</td>\n",
       "      <td>1.19873</td>\n",
       "      <td>2.26533</td>\n",
       "      <td>...</td>\n",
       "      <td>-0.580623</td>\n",
       "      <td>-3.87758</td>\n",
       "      <td>0.432652</td>\n",
       "      <td>-0.723898</td>\n",
       "      <td>2.00589</td>\n",
       "      <td>1.74348</td>\n",
       "      <td>-1.54076</td>\n",
       "      <td>-0.564548</td>\n",
       "      <td>0.183165</td>\n",
       "      <td>3.44084</td>\n",
       "    </tr>\n",
       "  </tbody>\n",
       "</table>\n",
       "<p>1 rows × 5605 columns</p>\n",
       "</div>"
      ],
      "text/plain": [
       "   lp__  accept_stat__   X[1,1]    X[2,1]   X[3,1]    X[4,1]   X[5,1]  \\\n",
       "0   0.0            0.0  2.70817  0.777181 -1.27227  0.127591 -1.38942   \n",
       "\n",
       "     X[6,1]   X[7,1]   X[8,1]  ...   y[1391]  y[1392]   y[1393]   y[1394]  \\\n",
       "0  0.246162  1.19873  2.26533  ... -0.580623 -3.87758  0.432652 -0.723898   \n",
       "\n",
       "   y[1395]  y[1396]  y[1397]   y[1398]   y[1399]  y[1400]  \n",
       "0  2.00589  1.74348 -1.54076 -0.564548  0.183165  3.44084  \n",
       "\n",
       "[1 rows x 5605 columns]"
      ]
     },
     "execution_count": 8,
     "metadata": {},
     "output_type": "execute_result"
    }
   ],
   "source": [
    "df_sim_2 = sim_2.draws_pd()\n",
    "df_sim_2.head()"
   ]
  },
  {
   "attachments": {},
   "cell_type": "markdown",
   "metadata": {},
   "source": [
    "**Exercise 2**"
   ]
  },
  {
   "cell_type": "code",
   "execution_count": 9,
   "metadata": {},
   "outputs": [
    {
     "name": "stderr",
     "output_type": "stream",
     "text": [
      "INFO:cmdstanpy:found newer exe file, not recompiling\n"
     ]
    }
   ],
   "source": [
    "model_3=CmdStanModel(stan_file='code_3.stan')"
   ]
  },
  {
   "cell_type": "code",
   "execution_count": 10,
   "metadata": {},
   "outputs": [
    {
     "name": "stderr",
     "output_type": "stream",
     "text": [
      "INFO:cmdstanpy:CmdStan start processing\n",
      "chain 1 |\u001b[33m          \u001b[0m| 00:00 Status\n",
      "\u001b[A\n",
      "\n",
      "chain 1 |\u001b[34m██████████\u001b[0m| 00:05 Iteration: 1900 / 2000 [ 95%]  (Sampling)\n",
      "\u001b[A\n",
      "\u001b[A\n",
      "\n",
      "\u001b[A\u001b[A\n",
      "\n",
      "\u001b[A\u001b[A\n",
      "\n",
      "\u001b[A\u001b[A\n",
      "\u001b[A\n",
      "\n",
      "\u001b[A\u001b[A\n",
      "\u001b[A\n",
      "\n",
      "\u001b[A\u001b[A\n",
      "\u001b[A\n",
      "\n",
      "\u001b[A\u001b[A\n",
      "\n",
      "chain 1 |\u001b[34m██████████\u001b[0m| 00:11 Sampling completed                       \n",
      "chain 2 |\u001b[34m██████████\u001b[0m| 00:11 Sampling completed                       \n",
      "chain 3 |\u001b[34m██████████\u001b[0m| 00:11 Sampling completed                       \n",
      "chain 4 |\u001b[34m██████████\u001b[0m| 00:11 Sampling completed                       "
     ]
    },
    {
     "name": "stdout",
     "output_type": "stream",
     "text": [
      "                                                                                                                                                                                                                                                                                                                                "
     ]
    },
    {
     "name": "stderr",
     "output_type": "stream",
     "text": [
      "\n",
      "INFO:cmdstanpy:CmdStan done processing.\n"
     ]
    },
    {
     "name": "stdout",
     "output_type": "stream",
     "text": [
      "\n"
     ]
    }
   ],
   "source": [
    "data_model_1 = df_sim_1.iloc[0, 3:]\n",
    "\n",
    "sim_3=model_3.sample(data={'N': N, 'y': data_model_1})"
   ]
  },
  {
   "cell_type": "code",
   "execution_count": 11,
   "metadata": {},
   "outputs": [
    {
     "data": {
      "text/html": [
       "<div>\n",
       "<style scoped>\n",
       "    .dataframe tbody tr th:only-of-type {\n",
       "        vertical-align: middle;\n",
       "    }\n",
       "\n",
       "    .dataframe tbody tr th {\n",
       "        vertical-align: top;\n",
       "    }\n",
       "\n",
       "    .dataframe thead th {\n",
       "        text-align: right;\n",
       "    }\n",
       "</style>\n",
       "<table border=\"1\" class=\"dataframe\">\n",
       "  <thead>\n",
       "    <tr style=\"text-align: right;\">\n",
       "      <th></th>\n",
       "      <th>lp__</th>\n",
       "      <th>accept_stat__</th>\n",
       "      <th>stepsize__</th>\n",
       "      <th>treedepth__</th>\n",
       "      <th>n_leapfrog__</th>\n",
       "      <th>divergent__</th>\n",
       "      <th>energy__</th>\n",
       "      <th>sigma</th>\n",
       "      <th>mu</th>\n",
       "      <th>log_lik[1]</th>\n",
       "      <th>...</th>\n",
       "      <th>y_hat[1391]</th>\n",
       "      <th>y_hat[1392]</th>\n",
       "      <th>y_hat[1393]</th>\n",
       "      <th>y_hat[1394]</th>\n",
       "      <th>y_hat[1395]</th>\n",
       "      <th>y_hat[1396]</th>\n",
       "      <th>y_hat[1397]</th>\n",
       "      <th>y_hat[1398]</th>\n",
       "      <th>y_hat[1399]</th>\n",
       "      <th>y_hat[1400]</th>\n",
       "    </tr>\n",
       "  </thead>\n",
       "  <tbody>\n",
       "    <tr>\n",
       "      <th>0</th>\n",
       "      <td>-2614.60</td>\n",
       "      <td>0.763212</td>\n",
       "      <td>0.914977</td>\n",
       "      <td>2.0</td>\n",
       "      <td>3.0</td>\n",
       "      <td>0.0</td>\n",
       "      <td>2615.04</td>\n",
       "      <td>1.61009</td>\n",
       "      <td>0.111857</td>\n",
       "      <td>-1.45071</td>\n",
       "      <td>...</td>\n",
       "      <td>0.745454</td>\n",
       "      <td>0.692032</td>\n",
       "      <td>3.188510</td>\n",
       "      <td>0.722660</td>\n",
       "      <td>2.259060</td>\n",
       "      <td>-1.195910</td>\n",
       "      <td>0.526148</td>\n",
       "      <td>0.669358</td>\n",
       "      <td>2.45012</td>\n",
       "      <td>-0.315838</td>\n",
       "    </tr>\n",
       "    <tr>\n",
       "      <th>1</th>\n",
       "      <td>-2615.96</td>\n",
       "      <td>0.907575</td>\n",
       "      <td>0.914977</td>\n",
       "      <td>2.0</td>\n",
       "      <td>3.0</td>\n",
       "      <td>0.0</td>\n",
       "      <td>2616.17</td>\n",
       "      <td>1.63441</td>\n",
       "      <td>0.092780</td>\n",
       "      <td>-1.46031</td>\n",
       "      <td>...</td>\n",
       "      <td>1.703080</td>\n",
       "      <td>0.657236</td>\n",
       "      <td>1.920860</td>\n",
       "      <td>-0.997964</td>\n",
       "      <td>-2.560060</td>\n",
       "      <td>-1.988430</td>\n",
       "      <td>4.126540</td>\n",
       "      <td>1.567390</td>\n",
       "      <td>2.63973</td>\n",
       "      <td>-0.004910</td>\n",
       "    </tr>\n",
       "    <tr>\n",
       "      <th>2</th>\n",
       "      <td>-2614.24</td>\n",
       "      <td>1.000000</td>\n",
       "      <td>0.914977</td>\n",
       "      <td>2.0</td>\n",
       "      <td>3.0</td>\n",
       "      <td>0.0</td>\n",
       "      <td>2616.14</td>\n",
       "      <td>1.54521</td>\n",
       "      <td>0.039919</td>\n",
       "      <td>-1.39927</td>\n",
       "      <td>...</td>\n",
       "      <td>-0.259742</td>\n",
       "      <td>-0.764661</td>\n",
       "      <td>-0.331562</td>\n",
       "      <td>0.316004</td>\n",
       "      <td>0.657168</td>\n",
       "      <td>-3.318660</td>\n",
       "      <td>-1.962420</td>\n",
       "      <td>-0.276333</td>\n",
       "      <td>3.20671</td>\n",
       "      <td>0.653683</td>\n",
       "    </tr>\n",
       "    <tr>\n",
       "      <th>3</th>\n",
       "      <td>-2614.20</td>\n",
       "      <td>0.862361</td>\n",
       "      <td>0.914977</td>\n",
       "      <td>2.0</td>\n",
       "      <td>3.0</td>\n",
       "      <td>0.0</td>\n",
       "      <td>2615.64</td>\n",
       "      <td>1.52711</td>\n",
       "      <td>0.109027</td>\n",
       "      <td>-1.40335</td>\n",
       "      <td>...</td>\n",
       "      <td>-0.661386</td>\n",
       "      <td>-2.647740</td>\n",
       "      <td>-3.268640</td>\n",
       "      <td>3.421010</td>\n",
       "      <td>-0.380060</td>\n",
       "      <td>1.604300</td>\n",
       "      <td>-0.069435</td>\n",
       "      <td>-0.375848</td>\n",
       "      <td>2.54709</td>\n",
       "      <td>0.601914</td>\n",
       "    </tr>\n",
       "    <tr>\n",
       "      <th>4</th>\n",
       "      <td>-2614.59</td>\n",
       "      <td>0.785814</td>\n",
       "      <td>0.914977</td>\n",
       "      <td>2.0</td>\n",
       "      <td>3.0</td>\n",
       "      <td>0.0</td>\n",
       "      <td>2616.04</td>\n",
       "      <td>1.58139</td>\n",
       "      <td>0.153415</td>\n",
       "      <td>-1.44402</td>\n",
       "      <td>...</td>\n",
       "      <td>1.926130</td>\n",
       "      <td>0.575161</td>\n",
       "      <td>-0.232539</td>\n",
       "      <td>0.566221</td>\n",
       "      <td>-1.268250</td>\n",
       "      <td>0.430246</td>\n",
       "      <td>0.461108</td>\n",
       "      <td>-0.336005</td>\n",
       "      <td>-2.31455</td>\n",
       "      <td>-0.246736</td>\n",
       "    </tr>\n",
       "  </tbody>\n",
       "</table>\n",
       "<p>5 rows × 2809 columns</p>\n",
       "</div>"
      ],
      "text/plain": [
       "      lp__  accept_stat__  stepsize__  treedepth__  n_leapfrog__  divergent__  \\\n",
       "0 -2614.60       0.763212    0.914977          2.0           3.0          0.0   \n",
       "1 -2615.96       0.907575    0.914977          2.0           3.0          0.0   \n",
       "2 -2614.24       1.000000    0.914977          2.0           3.0          0.0   \n",
       "3 -2614.20       0.862361    0.914977          2.0           3.0          0.0   \n",
       "4 -2614.59       0.785814    0.914977          2.0           3.0          0.0   \n",
       "\n",
       "   energy__    sigma        mu  log_lik[1]  ...  y_hat[1391]  y_hat[1392]  \\\n",
       "0   2615.04  1.61009  0.111857    -1.45071  ...     0.745454     0.692032   \n",
       "1   2616.17  1.63441  0.092780    -1.46031  ...     1.703080     0.657236   \n",
       "2   2616.14  1.54521  0.039919    -1.39927  ...    -0.259742    -0.764661   \n",
       "3   2615.64  1.52711  0.109027    -1.40335  ...    -0.661386    -2.647740   \n",
       "4   2616.04  1.58139  0.153415    -1.44402  ...     1.926130     0.575161   \n",
       "\n",
       "   y_hat[1393]  y_hat[1394]  y_hat[1395]  y_hat[1396]  y_hat[1397]  \\\n",
       "0     3.188510     0.722660     2.259060    -1.195910     0.526148   \n",
       "1     1.920860    -0.997964    -2.560060    -1.988430     4.126540   \n",
       "2    -0.331562     0.316004     0.657168    -3.318660    -1.962420   \n",
       "3    -3.268640     3.421010    -0.380060     1.604300    -0.069435   \n",
       "4    -0.232539     0.566221    -1.268250     0.430246     0.461108   \n",
       "\n",
       "   y_hat[1398]  y_hat[1399]  y_hat[1400]  \n",
       "0     0.669358      2.45012    -0.315838  \n",
       "1     1.567390      2.63973    -0.004910  \n",
       "2    -0.276333      3.20671     0.653683  \n",
       "3    -0.375848      2.54709     0.601914  \n",
       "4    -0.336005     -2.31455    -0.246736  \n",
       "\n",
       "[5 rows x 2809 columns]"
      ]
     },
     "execution_count": 11,
     "metadata": {},
     "output_type": "execute_result"
    }
   ],
   "source": [
    "df_sim_3 = sim_3.draws_pd()\n",
    "df_sim_3.head()"
   ]
  },
  {
   "cell_type": "code",
   "execution_count": 12,
   "metadata": {},
   "outputs": [
    {
     "name": "stderr",
     "output_type": "stream",
     "text": [
      "INFO:cmdstanpy:found newer exe file, not recompiling\n"
     ]
    }
   ],
   "source": [
    "model_4=CmdStanModel(stan_file='code_4.stan')"
   ]
  },
  {
   "cell_type": "code",
   "execution_count": 13,
   "metadata": {},
   "outputs": [
    {
     "name": "stderr",
     "output_type": "stream",
     "text": [
      "INFO:cmdstanpy:CmdStan start processing\n",
      "chain 1 |\u001b[33m          \u001b[0m| 00:00 Status\n",
      "\u001b[A\n",
      "\n",
      "chain 1 |\u001b[34m██████████\u001b[0m| 00:09 Iteration: 1900 / 2000 [ 95%]  (Sampling)\n",
      "\u001b[A\n",
      "\u001b[A\n",
      "\u001b[A\n",
      "\u001b[A\n",
      "\n",
      "\u001b[A\u001b[A\n",
      "\u001b[A\n",
      "\n",
      "\u001b[A\u001b[A\n",
      "\u001b[A\n",
      "\n",
      "\u001b[A\u001b[A\n",
      "\n",
      "\u001b[A\u001b[A\n",
      "\n",
      "\u001b[A\u001b[A\n",
      "\u001b[A\n",
      "\n",
      "\u001b[A\u001b[A\n",
      "\n",
      "\u001b[A\u001b[A\n",
      "\u001b[A\n",
      "\u001b[A\n",
      "\n",
      "\u001b[A\u001b[A\n",
      "\u001b[A\n",
      "\n",
      "\u001b[A\u001b[A\n",
      "\u001b[A\n",
      "\n",
      "\u001b[A\u001b[A\n",
      "\u001b[A\n",
      "\n",
      "\u001b[A\u001b[A\n",
      "\u001b[A\n",
      "\n",
      "\u001b[A\u001b[A\n",
      "\u001b[A\n",
      "\n",
      "\u001b[A\u001b[A\n",
      "\u001b[A\n",
      "\n",
      "\u001b[A\u001b[A\n",
      "\n",
      "chain 1 |\u001b[34m██████████\u001b[0m| 00:22 Sampling completed                       \n",
      "chain 2 |\u001b[34m██████████\u001b[0m| 00:22 Sampling completed                       \n",
      "chain 3 |\u001b[34m██████████\u001b[0m| 00:22 Sampling completed                       \n",
      "chain 4 |\u001b[34m██████████\u001b[0m| 00:22 Sampling completed                       "
     ]
    },
    {
     "name": "stdout",
     "output_type": "stream",
     "text": [
      "                                                                                                                                                                                                                                                                                                                                "
     ]
    },
    {
     "name": "stderr",
     "output_type": "stream",
     "text": [
      "\n",
      "INFO:cmdstanpy:CmdStan done processing.\n"
     ]
    },
    {
     "name": "stdout",
     "output_type": "stream",
     "text": [
      "\n"
     ]
    }
   ],
   "source": [
    "data_model_1 = df_sim_1.iloc[0, 3:]\n",
    "\n",
    "sim_4=model_4.sample(data={'N': N, 'y': data_model_1})"
   ]
  },
  {
   "cell_type": "code",
   "execution_count": 14,
   "metadata": {},
   "outputs": [
    {
     "data": {
      "text/html": [
       "<div>\n",
       "<style scoped>\n",
       "    .dataframe tbody tr th:only-of-type {\n",
       "        vertical-align: middle;\n",
       "    }\n",
       "\n",
       "    .dataframe tbody tr th {\n",
       "        vertical-align: top;\n",
       "    }\n",
       "\n",
       "    .dataframe thead th {\n",
       "        text-align: right;\n",
       "    }\n",
       "</style>\n",
       "<table border=\"1\" class=\"dataframe\">\n",
       "  <thead>\n",
       "    <tr style=\"text-align: right;\">\n",
       "      <th></th>\n",
       "      <th>lp__</th>\n",
       "      <th>accept_stat__</th>\n",
       "      <th>stepsize__</th>\n",
       "      <th>treedepth__</th>\n",
       "      <th>n_leapfrog__</th>\n",
       "      <th>divergent__</th>\n",
       "      <th>energy__</th>\n",
       "      <th>sigma</th>\n",
       "      <th>mu</th>\n",
       "      <th>nu</th>\n",
       "      <th>...</th>\n",
       "      <th>y_hat[1391]</th>\n",
       "      <th>y_hat[1392]</th>\n",
       "      <th>y_hat[1393]</th>\n",
       "      <th>y_hat[1394]</th>\n",
       "      <th>y_hat[1395]</th>\n",
       "      <th>y_hat[1396]</th>\n",
       "      <th>y_hat[1397]</th>\n",
       "      <th>y_hat[1398]</th>\n",
       "      <th>y_hat[1399]</th>\n",
       "      <th>y_hat[1400]</th>\n",
       "    </tr>\n",
       "  </thead>\n",
       "  <tbody>\n",
       "    <tr>\n",
       "      <th>0</th>\n",
       "      <td>-2106.46</td>\n",
       "      <td>0.986227</td>\n",
       "      <td>0.683164</td>\n",
       "      <td>3.0</td>\n",
       "      <td>7.0</td>\n",
       "      <td>0.0</td>\n",
       "      <td>2107.90</td>\n",
       "      <td>0.832502</td>\n",
       "      <td>0.006792</td>\n",
       "      <td>4.33883</td>\n",
       "      <td>...</td>\n",
       "      <td>-0.152200</td>\n",
       "      <td>0.616351</td>\n",
       "      <td>1.709530</td>\n",
       "      <td>1.14582</td>\n",
       "      <td>0.503415</td>\n",
       "      <td>-0.852853</td>\n",
       "      <td>0.272786</td>\n",
       "      <td>-1.599940</td>\n",
       "      <td>-0.016611</td>\n",
       "      <td>-1.060750</td>\n",
       "    </tr>\n",
       "    <tr>\n",
       "      <th>1</th>\n",
       "      <td>-2106.30</td>\n",
       "      <td>0.950449</td>\n",
       "      <td>0.683164</td>\n",
       "      <td>2.0</td>\n",
       "      <td>7.0</td>\n",
       "      <td>0.0</td>\n",
       "      <td>2107.93</td>\n",
       "      <td>0.802080</td>\n",
       "      <td>-0.000237</td>\n",
       "      <td>3.56451</td>\n",
       "      <td>...</td>\n",
       "      <td>-1.238920</td>\n",
       "      <td>-1.590360</td>\n",
       "      <td>-2.536780</td>\n",
       "      <td>0.29482</td>\n",
       "      <td>1.688780</td>\n",
       "      <td>-1.471860</td>\n",
       "      <td>-0.408853</td>\n",
       "      <td>-1.565930</td>\n",
       "      <td>-1.031790</td>\n",
       "      <td>-1.234650</td>\n",
       "    </tr>\n",
       "    <tr>\n",
       "      <th>2</th>\n",
       "      <td>-2107.96</td>\n",
       "      <td>0.720169</td>\n",
       "      <td>0.683164</td>\n",
       "      <td>2.0</td>\n",
       "      <td>3.0</td>\n",
       "      <td>0.0</td>\n",
       "      <td>2108.56</td>\n",
       "      <td>0.791055</td>\n",
       "      <td>-0.019977</td>\n",
       "      <td>3.86923</td>\n",
       "      <td>...</td>\n",
       "      <td>-0.349117</td>\n",
       "      <td>-0.896976</td>\n",
       "      <td>0.420830</td>\n",
       "      <td>-2.46029</td>\n",
       "      <td>-0.046583</td>\n",
       "      <td>-0.383101</td>\n",
       "      <td>0.566293</td>\n",
       "      <td>-0.233664</td>\n",
       "      <td>0.739048</td>\n",
       "      <td>-1.516010</td>\n",
       "    </tr>\n",
       "    <tr>\n",
       "      <th>3</th>\n",
       "      <td>-2107.60</td>\n",
       "      <td>1.000000</td>\n",
       "      <td>0.683164</td>\n",
       "      <td>3.0</td>\n",
       "      <td>7.0</td>\n",
       "      <td>0.0</td>\n",
       "      <td>2108.71</td>\n",
       "      <td>0.819186</td>\n",
       "      <td>0.039123</td>\n",
       "      <td>3.35072</td>\n",
       "      <td>...</td>\n",
       "      <td>-0.325997</td>\n",
       "      <td>3.378320</td>\n",
       "      <td>0.542847</td>\n",
       "      <td>-1.01205</td>\n",
       "      <td>0.462070</td>\n",
       "      <td>0.262540</td>\n",
       "      <td>0.093053</td>\n",
       "      <td>0.348396</td>\n",
       "      <td>0.385822</td>\n",
       "      <td>1.687300</td>\n",
       "    </tr>\n",
       "    <tr>\n",
       "      <th>4</th>\n",
       "      <td>-2106.62</td>\n",
       "      <td>1.000000</td>\n",
       "      <td>0.683164</td>\n",
       "      <td>2.0</td>\n",
       "      <td>3.0</td>\n",
       "      <td>0.0</td>\n",
       "      <td>2107.61</td>\n",
       "      <td>0.803968</td>\n",
       "      <td>0.037556</td>\n",
       "      <td>3.53943</td>\n",
       "      <td>...</td>\n",
       "      <td>-1.274400</td>\n",
       "      <td>0.901788</td>\n",
       "      <td>-0.730511</td>\n",
       "      <td>-1.08967</td>\n",
       "      <td>0.441838</td>\n",
       "      <td>2.081360</td>\n",
       "      <td>-0.320897</td>\n",
       "      <td>-0.658989</td>\n",
       "      <td>0.112286</td>\n",
       "      <td>-0.683667</td>\n",
       "    </tr>\n",
       "  </tbody>\n",
       "</table>\n",
       "<p>5 rows × 2810 columns</p>\n",
       "</div>"
      ],
      "text/plain": [
       "      lp__  accept_stat__  stepsize__  treedepth__  n_leapfrog__  divergent__  \\\n",
       "0 -2106.46       0.986227    0.683164          3.0           7.0          0.0   \n",
       "1 -2106.30       0.950449    0.683164          2.0           7.0          0.0   \n",
       "2 -2107.96       0.720169    0.683164          2.0           3.0          0.0   \n",
       "3 -2107.60       1.000000    0.683164          3.0           7.0          0.0   \n",
       "4 -2106.62       1.000000    0.683164          2.0           3.0          0.0   \n",
       "\n",
       "   energy__     sigma        mu       nu  ...  y_hat[1391]  y_hat[1392]  \\\n",
       "0   2107.90  0.832502  0.006792  4.33883  ...    -0.152200     0.616351   \n",
       "1   2107.93  0.802080 -0.000237  3.56451  ...    -1.238920    -1.590360   \n",
       "2   2108.56  0.791055 -0.019977  3.86923  ...    -0.349117    -0.896976   \n",
       "3   2108.71  0.819186  0.039123  3.35072  ...    -0.325997     3.378320   \n",
       "4   2107.61  0.803968  0.037556  3.53943  ...    -1.274400     0.901788   \n",
       "\n",
       "   y_hat[1393]  y_hat[1394]  y_hat[1395]  y_hat[1396]  y_hat[1397]  \\\n",
       "0     1.709530      1.14582     0.503415    -0.852853     0.272786   \n",
       "1    -2.536780      0.29482     1.688780    -1.471860    -0.408853   \n",
       "2     0.420830     -2.46029    -0.046583    -0.383101     0.566293   \n",
       "3     0.542847     -1.01205     0.462070     0.262540     0.093053   \n",
       "4    -0.730511     -1.08967     0.441838     2.081360    -0.320897   \n",
       "\n",
       "   y_hat[1398]  y_hat[1399]  y_hat[1400]  \n",
       "0    -1.599940    -0.016611    -1.060750  \n",
       "1    -1.565930    -1.031790    -1.234650  \n",
       "2    -0.233664     0.739048    -1.516010  \n",
       "3     0.348396     0.385822     1.687300  \n",
       "4    -0.658989     0.112286    -0.683667  \n",
       "\n",
       "[5 rows x 2810 columns]"
      ]
     },
     "execution_count": 14,
     "metadata": {},
     "output_type": "execute_result"
    }
   ],
   "source": [
    "df_sim_4 = sim_4.draws_pd()\n",
    "df_sim_4.head()"
   ]
  },
  {
   "cell_type": "code",
   "execution_count": 15,
   "metadata": {},
   "outputs": [
    {
     "name": "stderr",
     "output_type": "stream",
     "text": [
      "/usr/local/lib/python3.9/site-packages/arviz/stats/stats.py:811: UserWarning: Estimated shape parameter of Pareto distribution is greater than 0.7 for one or more samples. You should consider using a more robust model, this is because importance sampling is less likely to work well if the marginal posterior and LOO posterior are very different. This is more likely to happen with a non-robust model and highly influential observations.\n",
      "  warnings.warn(\n"
     ]
    },
    {
     "data": {
      "text/html": [
       "<div>\n",
       "<style scoped>\n",
       "    .dataframe tbody tr th:only-of-type {\n",
       "        vertical-align: middle;\n",
       "    }\n",
       "\n",
       "    .dataframe tbody tr th {\n",
       "        vertical-align: top;\n",
       "    }\n",
       "\n",
       "    .dataframe thead th {\n",
       "        text-align: right;\n",
       "    }\n",
       "</style>\n",
       "<table border=\"1\" class=\"dataframe\">\n",
       "  <thead>\n",
       "    <tr style=\"text-align: right;\">\n",
       "      <th></th>\n",
       "      <th>rank</th>\n",
       "      <th>loo</th>\n",
       "      <th>p_loo</th>\n",
       "      <th>d_loo</th>\n",
       "      <th>weight</th>\n",
       "      <th>se</th>\n",
       "      <th>dse</th>\n",
       "      <th>warning</th>\n",
       "      <th>loo_scale</th>\n",
       "    </tr>\n",
       "  </thead>\n",
       "  <tbody>\n",
       "    <tr>\n",
       "      <th>model_4</th>\n",
       "      <td>0</td>\n",
       "      <td>-2107.179946</td>\n",
       "      <td>4.383426</td>\n",
       "      <td>0.000000</td>\n",
       "      <td>1.000000e+00</td>\n",
       "      <td>42.124478</td>\n",
       "      <td>0.000000</td>\n",
       "      <td>False</td>\n",
       "      <td>log</td>\n",
       "    </tr>\n",
       "    <tr>\n",
       "      <th>model_3</th>\n",
       "      <td>1</td>\n",
       "      <td>-2629.015507</td>\n",
       "      <td>28.860238</td>\n",
       "      <td>521.835561</td>\n",
       "      <td>3.924839e-09</td>\n",
       "      <td>145.528858</td>\n",
       "      <td>116.447609</td>\n",
       "      <td>True</td>\n",
       "      <td>log</td>\n",
       "    </tr>\n",
       "  </tbody>\n",
       "</table>\n",
       "</div>"
      ],
      "text/plain": [
       "         rank          loo      p_loo       d_loo        weight          se  \\\n",
       "model_4     0 -2107.179946   4.383426    0.000000  1.000000e+00   42.124478   \n",
       "model_3     1 -2629.015507  28.860238  521.835561  3.924839e-09  145.528858   \n",
       "\n",
       "                dse  warning loo_scale  \n",
       "model_4    0.000000    False       log  \n",
       "model_3  116.447609     True       log  "
      ]
     },
     "execution_count": 15,
     "metadata": {},
     "output_type": "execute_result"
    }
   ],
   "source": [
    "data = {'model_3': sim_3, 'model_4': sim_4}\n",
    "compare_loo = az.compare(data, ic='loo')\n",
    "compare_loo"
   ]
  },
  {
   "cell_type": "code",
   "execution_count": 16,
   "metadata": {},
   "outputs": [
    {
     "data": {
      "image/png": "[encoded data removed]",
      "text/plain": [
       "<Figure size 432x144 with 1 Axes>"
      ]
     },
     "metadata": {
      "needs_background": "light"
     },
     "output_type": "display_data"
    }
   ],
   "source": [
    "az.plot_compare(compare_loo)\n",
    "plt.title(\"loo\")\n",
    "plt.show()"
   ]
  },
  {
   "cell_type": "code",
   "execution_count": 17,
   "metadata": {},
   "outputs": [
    {
     "name": "stderr",
     "output_type": "stream",
     "text": [
      "/usr/local/lib/python3.9/site-packages/arviz/stats/stats.py:1635: UserWarning: For one or more samples the posterior variance of the log predictive densities exceeds 0.4. This could be indication of WAIC starting to fail. \n",
      "See http://arxiv.org/abs/1507.04544 for details\n",
      "  warnings.warn(\n"
     ]
    },
    {
     "data": {
      "text/html": [
       "<div>\n",
       "<style scoped>\n",
       "    .dataframe tbody tr th:only-of-type {\n",
       "        vertical-align: middle;\n",
       "    }\n",
       "\n",
       "    .dataframe tbody tr th {\n",
       "        vertical-align: top;\n",
       "    }\n",
       "\n",
       "    .dataframe thead th {\n",
       "        text-align: right;\n",
       "    }\n",
       "</style>\n",
       "<table border=\"1\" class=\"dataframe\">\n",
       "  <thead>\n",
       "    <tr style=\"text-align: right;\">\n",
       "      <th></th>\n",
       "      <th>rank</th>\n",
       "      <th>waic</th>\n",
       "      <th>p_waic</th>\n",
       "      <th>d_waic</th>\n",
       "      <th>weight</th>\n",
       "      <th>se</th>\n",
       "      <th>dse</th>\n",
       "      <th>warning</th>\n",
       "      <th>waic_scale</th>\n",
       "    </tr>\n",
       "  </thead>\n",
       "  <tbody>\n",
       "    <tr>\n",
       "      <th>model_4</th>\n",
       "      <td>0</td>\n",
       "      <td>-2107.159020</td>\n",
       "      <td>4.362501</td>\n",
       "      <td>0.000000</td>\n",
       "      <td>1.000000e+00</td>\n",
       "      <td>42.119318</td>\n",
       "      <td>0.000000</td>\n",
       "      <td>False</td>\n",
       "      <td>log</td>\n",
       "    </tr>\n",
       "    <tr>\n",
       "      <th>model_3</th>\n",
       "      <td>1</td>\n",
       "      <td>-2629.139181</td>\n",
       "      <td>28.983911</td>\n",
       "      <td>521.980161</td>\n",
       "      <td>4.179469e-09</td>\n",
       "      <td>145.579844</td>\n",
       "      <td>116.507137</td>\n",
       "      <td>True</td>\n",
       "      <td>log</td>\n",
       "    </tr>\n",
       "  </tbody>\n",
       "</table>\n",
       "</div>"
      ],
      "text/plain": [
       "         rank         waic     p_waic      d_waic        weight          se  \\\n",
       "model_4     0 -2107.159020   4.362501    0.000000  1.000000e+00   42.119318   \n",
       "model_3     1 -2629.139181  28.983911  521.980161  4.179469e-09  145.579844   \n",
       "\n",
       "                dse  warning waic_scale  \n",
       "model_4    0.000000    False        log  \n",
       "model_3  116.507137     True        log  "
      ]
     },
     "execution_count": 17,
     "metadata": {},
     "output_type": "execute_result"
    }
   ],
   "source": [
    "data = {'model_3': sim_3, 'model_4': sim_4}\n",
    "compare_waic = az.compare(data, ic='waic')\n",
    "compare_waic"
   ]
  },
  {
   "cell_type": "code",
   "execution_count": 18,
   "metadata": {},
   "outputs": [
    {
     "data": {
      "image/png": "[encoded data removed]",
      "text/plain": [
       "<Figure size 432x144 with 1 Axes>"
      ]
     },
     "metadata": {
      "needs_background": "light"
     },
     "output_type": "display_data"
    }
   ],
   "source": [
    "az.plot_compare(compare_waic)\n",
    "plt.title(\"waic\")\n",
    "plt.show()"
   ]
  },
  {
   "attachments": {},
   "cell_type": "markdown",
   "metadata": {},
   "source": [
    "**Exercise 3**"
   ]
  },
  {
   "cell_type": "code",
   "execution_count": 19,
   "metadata": {},
   "outputs": [
    {
     "name": "stderr",
     "output_type": "stream",
     "text": [
      "INFO:cmdstanpy:compiling stan file /home/Volume_for_docker/Lab6/code_5.stan to exe file /home/Volume_for_docker/Lab6/code_5\n",
      "INFO:cmdstanpy:compiled model executable: /home/Volume_for_docker/Lab6/code_5\n"
     ]
    }
   ],
   "source": [
    "model_5=CmdStanModel(stan_file='code_5.stan')"
   ]
  },
  {
   "cell_type": "code",
   "execution_count": 26,
   "metadata": {},
   "outputs": [
    {
     "name": "stderr",
     "output_type": "stream",
     "text": [
      "INFO:cmdstanpy:CmdStan start processing\n",
      "chain 1 |\u001b[33m          \u001b[0m| 00:00 Status\n",
      "\u001b[A\n",
      "\n",
      "chain 1 |\u001b[34m██████████\u001b[0m| 00:03 Iteration: 1900 / 2000 [ 95%]  (Sampling)\n",
      "\u001b[A\n",
      "\u001b[A\n",
      "\u001b[A\n",
      "\n",
      "\u001b[A\u001b[A\n",
      "\n",
      "\u001b[A\u001b[A\n",
      "\n",
      "\u001b[A\u001b[A\n",
      "\u001b[A\n",
      "\n",
      "\u001b[A\u001b[A\n",
      "\u001b[A\n",
      "\u001b[A\n",
      "\n",
      "\u001b[A\u001b[A\n",
      "\u001b[A\n",
      "\n",
      "\u001b[A\u001b[A\n",
      "\u001b[A\n",
      "\u001b[A\n",
      "\n",
      "\u001b[A\u001b[A\n",
      "\n",
      "chain 1 |\u001b[34m██████████\u001b[0m| 00:07 Sampling completed                       \n",
      "chain 2 |\u001b[34m██████████\u001b[0m| 00:07 Sampling completed                       \n",
      "chain 3 |\u001b[34m██████████\u001b[0m| 00:07 Sampling completed                       \n",
      "chain 4 |\u001b[34m██████████\u001b[0m| 00:07 Sampling completed                       "
     ]
    },
    {
     "name": "stdout",
     "output_type": "stream",
     "text": [
      "                                                                                                                                                                                                                                                                                                                                "
     ]
    },
    {
     "name": "stderr",
     "output_type": "stream",
     "text": [
      "\n",
      "INFO:cmdstanpy:CmdStan done processing.\n"
     ]
    },
    {
     "name": "stdout",
     "output_type": "stream",
     "text": [
      "\n"
     ]
    }
   ],
   "source": [
    "data_for_model_5_1 = {'N': N, 'K': 1, 'y': df_sim_2.loc[:, 'y[1]':].values.reshape((N)), 'X': df_sim_2.loc[:, 'X[1,1]': f'X[{N},1]'].values.reshape((N, 1))}\n",
    "\n",
    "sim_5_1=model_5.sample(data=data_for_model_5_1)"
   ]
  },
  {
   "cell_type": "code",
   "execution_count": 27,
   "metadata": {},
   "outputs": [
    {
     "name": "stderr",
     "output_type": "stream",
     "text": [
      "INFO:cmdstanpy:CmdStan start processing\n",
      "chain 1 |\u001b[33m          \u001b[0m| 00:00 Status\n",
      "\u001b[A\n",
      "\n",
      "chain 1 |\u001b[34m██████████\u001b[0m| 00:04 Iteration: 1900 / 2000 [ 95%]  (Sampling)\n",
      "\u001b[A\n",
      "\n",
      "\u001b[A\u001b[A\n",
      "\n",
      "\u001b[A\u001b[A\n",
      "\u001b[A\n",
      "\n",
      "\u001b[A\u001b[A\n",
      "\u001b[A\n",
      "\n",
      "\u001b[A\u001b[A\n",
      "\u001b[A\n",
      "\u001b[A\n",
      "\n",
      "\u001b[A\u001b[A\n",
      "\u001b[A\n",
      "\n",
      "\u001b[A\u001b[A\n",
      "\n",
      "\u001b[A\u001b[A\n",
      "\u001b[A\n",
      "\n",
      "\u001b[A\u001b[A\n",
      "\u001b[A\n",
      "\n",
      "\u001b[A\u001b[A\n",
      "\u001b[A\n",
      "\n",
      "\u001b[A\u001b[A\n",
      "\u001b[A\n",
      "\n",
      "\u001b[A\u001b[A\n",
      "\u001b[A\n",
      "\n",
      "\u001b[A\u001b[A\n",
      "\u001b[A\n",
      "\n",
      "\u001b[A\u001b[A\n",
      "\u001b[A\n",
      "\n",
      "\u001b[A\u001b[A\n",
      "chain 1 |\u001b[34m██████████\u001b[0m| 00:08 Sampling completed                       \n",
      "chain 2 |\u001b[34m██████████\u001b[0m| 00:08 Sampling completed                       \n",
      "chain 3 |\u001b[34m██████████\u001b[0m| 00:08 Sampling completed                       \n",
      "chain 4 |\u001b[34m██████████\u001b[0m| 00:08 Sampling completed                       "
     ]
    },
    {
     "name": "stdout",
     "output_type": "stream",
     "text": [
      "                                                                                                                                                                                                                                                                                                                                "
     ]
    },
    {
     "name": "stderr",
     "output_type": "stream",
     "text": [
      "\n",
      "INFO:cmdstanpy:CmdStan done processing.\n"
     ]
    },
    {
     "name": "stdout",
     "output_type": "stream",
     "text": [
      "\n"
     ]
    }
   ],
   "source": [
    "data_for_model_5_2 = {'N': N, 'K': 2, 'y': df_sim_2.loc[:, 'y[1]':].values.reshape((N)), 'X': df_sim_2.loc[:, 'X[1,1]': f'X[{N},2]'].values.reshape((N, 2))}\n",
    "\n",
    "sim_5_2=model_5.sample(data=data_for_model_5_2)"
   ]
  },
  {
   "cell_type": "code",
   "execution_count": 28,
   "metadata": {},
   "outputs": [
    {
     "name": "stderr",
     "output_type": "stream",
     "text": [
      "INFO:cmdstanpy:CmdStan start processing\n",
      "chain 1 |\u001b[33m          \u001b[0m| 00:00 Status\n",
      "\u001b[A\n",
      "\n",
      "chain 1 |\u001b[34m██████████\u001b[0m| 00:04 Iteration: 1900 / 2000 [ 95%]  (Sampling)\n",
      "\u001b[A\n",
      "\u001b[A\n",
      "\u001b[A\n",
      "\u001b[A\n",
      "\n",
      "\u001b[A\u001b[A\n",
      "\n",
      "\u001b[A\u001b[A\n",
      "\n",
      "\u001b[A\u001b[A\n",
      "\n",
      "\u001b[A\u001b[A\n",
      "\u001b[A\n",
      "\n",
      "\u001b[A\u001b[A\n",
      "\u001b[A\n",
      "\n",
      "\u001b[A\u001b[A\n",
      "\u001b[A\n",
      "\n",
      "\u001b[A\u001b[A\n",
      "\u001b[A\n",
      "\n",
      "\u001b[A\u001b[A\n",
      "\u001b[A\n",
      "\n",
      "\u001b[A\u001b[A\n",
      "\n",
      "\u001b[A\u001b[A\n",
      "\u001b[A\n",
      "\n",
      "\u001b[A\u001b[A\n",
      "chain 1 |\u001b[34m██████████\u001b[0m| 00:08 Sampling completed                       \n",
      "chain 2 |\u001b[34m██████████\u001b[0m| 00:08 Sampling completed                       \n",
      "chain 3 |\u001b[34m██████████\u001b[0m| 00:08 Sampling completed                       \n",
      "chain 4 |\u001b[34m██████████\u001b[0m| 00:08 Sampling completed                       "
     ]
    },
    {
     "name": "stdout",
     "output_type": "stream",
     "text": [
      "                                                                                                                                                                                                                                                                                                                                "
     ]
    },
    {
     "name": "stderr",
     "output_type": "stream",
     "text": [
      "\n",
      "INFO:cmdstanpy:CmdStan done processing.\n"
     ]
    },
    {
     "name": "stdout",
     "output_type": "stream",
     "text": [
      "\n"
     ]
    }
   ],
   "source": [
    "data_for_model_5_3 = {'N': N, 'K': 3, 'y': df_sim_2.loc[:, 'y[1]':].values.reshape((N)), 'X': df_sim_2.loc[:, 'X[1,1]': f'X[{N},3]'].values.reshape((N, 3))}\n",
    "\n",
    "sim_5_3=model_5.sample(data=data_for_model_5_3)"
   ]
  },
  {
   "cell_type": "code",
   "execution_count": 31,
   "metadata": {},
   "outputs": [
    {
     "data": {
      "text/html": [
       "<div>\n",
       "<style scoped>\n",
       "    .dataframe tbody tr th:only-of-type {\n",
       "        vertical-align: middle;\n",
       "    }\n",
       "\n",
       "    .dataframe tbody tr th {\n",
       "        vertical-align: top;\n",
       "    }\n",
       "\n",
       "    .dataframe thead th {\n",
       "        text-align: right;\n",
       "    }\n",
       "</style>\n",
       "<table border=\"1\" class=\"dataframe\">\n",
       "  <thead>\n",
       "    <tr style=\"text-align: right;\">\n",
       "      <th></th>\n",
       "      <th>rank</th>\n",
       "      <th>loo</th>\n",
       "      <th>p_loo</th>\n",
       "      <th>d_loo</th>\n",
       "      <th>weight</th>\n",
       "      <th>se</th>\n",
       "      <th>dse</th>\n",
       "      <th>warning</th>\n",
       "      <th>loo_scale</th>\n",
       "    </tr>\n",
       "  </thead>\n",
       "  <tbody>\n",
       "    <tr>\n",
       "      <th>model_5_1</th>\n",
       "      <td>0</td>\n",
       "      <td>-2543.685240</td>\n",
       "      <td>2.098006</td>\n",
       "      <td>0.000000</td>\n",
       "      <td>1.0</td>\n",
       "      <td>27.100770</td>\n",
       "      <td>0.000000</td>\n",
       "      <td>False</td>\n",
       "      <td>log</td>\n",
       "    </tr>\n",
       "    <tr>\n",
       "      <th>model_5_3</th>\n",
       "      <td>1</td>\n",
       "      <td>-3289.061164</td>\n",
       "      <td>3.764127</td>\n",
       "      <td>745.375924</td>\n",
       "      <td>0.0</td>\n",
       "      <td>25.395335</td>\n",
       "      <td>30.212686</td>\n",
       "      <td>False</td>\n",
       "      <td>log</td>\n",
       "    </tr>\n",
       "    <tr>\n",
       "      <th>model_5_2</th>\n",
       "      <td>2</td>\n",
       "      <td>-3289.267034</td>\n",
       "      <td>3.107236</td>\n",
       "      <td>745.581793</td>\n",
       "      <td>0.0</td>\n",
       "      <td>25.445942</td>\n",
       "      <td>30.263049</td>\n",
       "      <td>False</td>\n",
       "      <td>log</td>\n",
       "    </tr>\n",
       "  </tbody>\n",
       "</table>\n",
       "</div>"
      ],
      "text/plain": [
       "           rank          loo     p_loo       d_loo  weight         se  \\\n",
       "model_5_1     0 -2543.685240  2.098006    0.000000     1.0  27.100770   \n",
       "model_5_3     1 -3289.061164  3.764127  745.375924     0.0  25.395335   \n",
       "model_5_2     2 -3289.267034  3.107236  745.581793     0.0  25.445942   \n",
       "\n",
       "                 dse  warning loo_scale  \n",
       "model_5_1   0.000000    False       log  \n",
       "model_5_3  30.212686    False       log  \n",
       "model_5_2  30.263049    False       log  "
      ]
     },
     "execution_count": 31,
     "metadata": {},
     "output_type": "execute_result"
    }
   ],
   "source": [
    "data = {'model_5_1': sim_5_1, 'model_5_2': sim_5_2, 'model_5_3': sim_5_3}\n",
    "compare_loo = az.compare(data, ic='loo')\n",
    "compare_loo"
   ]
  },
  {
   "cell_type": "code",
   "execution_count": 32,
   "metadata": {},
   "outputs": [
    {
     "data": {
      "image/png": "[encoded data removed]",
      "text/plain": [
       "<Figure size 432x216 with 1 Axes>"
      ]
     },
     "metadata": {
      "needs_background": "light"
     },
     "output_type": "display_data"
    }
   ],
   "source": [
    "az.plot_compare(compare_loo)\n",
    "plt.title(\"loo\")\n",
    "plt.show()"
   ]
  },
  {
   "cell_type": "code",
   "execution_count": 33,
   "metadata": {},
   "outputs": [
    {
     "data": {
      "text/html": [
       "<div>\n",
       "<style scoped>\n",
       "    .dataframe tbody tr th:only-of-type {\n",
       "        vertical-align: middle;\n",
       "    }\n",
       "\n",
       "    .dataframe tbody tr th {\n",
       "        vertical-align: top;\n",
       "    }\n",
       "\n",
       "    .dataframe thead th {\n",
       "        text-align: right;\n",
       "    }\n",
       "</style>\n",
       "<table border=\"1\" class=\"dataframe\">\n",
       "  <thead>\n",
       "    <tr style=\"text-align: right;\">\n",
       "      <th></th>\n",
       "      <th>rank</th>\n",
       "      <th>waic</th>\n",
       "      <th>p_waic</th>\n",
       "      <th>d_waic</th>\n",
       "      <th>weight</th>\n",
       "      <th>se</th>\n",
       "      <th>dse</th>\n",
       "      <th>warning</th>\n",
       "      <th>waic_scale</th>\n",
       "    </tr>\n",
       "  </thead>\n",
       "  <tbody>\n",
       "    <tr>\n",
       "      <th>model_5_1</th>\n",
       "      <td>0</td>\n",
       "      <td>-2543.685221</td>\n",
       "      <td>2.097987</td>\n",
       "      <td>0.000000</td>\n",
       "      <td>1.000000e+00</td>\n",
       "      <td>27.100767</td>\n",
       "      <td>0.000000</td>\n",
       "      <td>False</td>\n",
       "      <td>log</td>\n",
       "    </tr>\n",
       "    <tr>\n",
       "      <th>model_5_3</th>\n",
       "      <td>1</td>\n",
       "      <td>-3289.060948</td>\n",
       "      <td>3.763911</td>\n",
       "      <td>745.375727</td>\n",
       "      <td>0.000000e+00</td>\n",
       "      <td>25.395305</td>\n",
       "      <td>30.212669</td>\n",
       "      <td>False</td>\n",
       "      <td>log</td>\n",
       "    </tr>\n",
       "    <tr>\n",
       "      <th>model_5_2</th>\n",
       "      <td>2</td>\n",
       "      <td>-3289.267060</td>\n",
       "      <td>3.107262</td>\n",
       "      <td>745.581839</td>\n",
       "      <td>1.121325e-14</td>\n",
       "      <td>25.445949</td>\n",
       "      <td>30.263053</td>\n",
       "      <td>False</td>\n",
       "      <td>log</td>\n",
       "    </tr>\n",
       "  </tbody>\n",
       "</table>\n",
       "</div>"
      ],
      "text/plain": [
       "           rank         waic    p_waic      d_waic        weight         se  \\\n",
       "model_5_1     0 -2543.685221  2.097987    0.000000  1.000000e+00  27.100767   \n",
       "model_5_3     1 -3289.060948  3.763911  745.375727  0.000000e+00  25.395305   \n",
       "model_5_2     2 -3289.267060  3.107262  745.581839  1.121325e-14  25.445949   \n",
       "\n",
       "                 dse  warning waic_scale  \n",
       "model_5_1   0.000000    False        log  \n",
       "model_5_3  30.212669    False        log  \n",
       "model_5_2  30.263053    False        log  "
      ]
     },
     "execution_count": 33,
     "metadata": {},
     "output_type": "execute_result"
    }
   ],
   "source": [
    "data = {'model_5_1': sim_5_1, 'model_5_2': sim_5_2, 'model_5_3': sim_5_3}\n",
    "compare_waic = az.compare(data, ic='waic')\n",
    "compare_waic"
   ]
  },
  {
   "cell_type": "code",
   "execution_count": 34,
   "metadata": {},
   "outputs": [
    {
     "data": {
      "image/png": "[encoded data removed]",
      "text/plain": [
       "<Figure size 432x216 with 1 Axes>"
      ]
     },
     "metadata": {
      "needs_background": "light"
     },
     "output_type": "display_data"
    }
   ],
   "source": [
    "az.plot_compare(compare_waic)\n",
    "plt.title(\"waic\")\n",
    "plt.show()"
   ]
  }
 ],
 "metadata": {
  "kernelspec": {
   "display_name": "Python 3",
   "language": "python",
   "name": "python3"
  },
  "language_info": {
   "codemirror_mode": {
    "name": "ipython",
    "version": 3
   },
   "file_extension": ".py",
   "mimetype": "text/x-python",
   "name": "python",
   "nbconvert_exporter": "python",
   "pygments_lexer": "ipython3",
   "version": "3.9.11"
  },
  "orig_nbformat": 4
 },
 "nbformat": 4,
 "nbformat_minor": 2
}
